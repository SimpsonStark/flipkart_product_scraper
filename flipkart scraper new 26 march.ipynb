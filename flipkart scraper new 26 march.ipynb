{
 "cells": [
  {
   "cell_type": "code",
   "execution_count": 1,
   "metadata": {},
   "outputs": [],
   "source": [
    "import requests\n",
    "from bs4 import BeautifulSoup\n",
    "import urllib.request"
   ]
  },
  {
   "cell_type": "code",
   "execution_count": 6,
   "metadata": {},
   "outputs": [],
   "source": [
    "for i in range(1,2):\n",
    "    f = open(f'C:\\\\Users\\\\mcc\\\\Downloads\\\\dog grooming\\\\pet diaper.html', encoding = 'utf-8')\n",
    "    soup = BeautifulSoup(f.read(), 'html.parser')\n",
    "\n",
    "    with open('pet diaper.csv', 'a', newline = \"\", encoding = 'utf-8') as f:\n",
    "\n",
    "\n",
    "        containers = soup.findAll('div', attrs = {'class' : '_3liAhj'})\n",
    "\n",
    "\n",
    "        for container in containers:\n",
    "            product_name = container.div.img['alt'].replace(',','')\n",
    "            img_url = container.div.img['src'].split('/')[2]\n",
    "\n",
    "            price_container = container.find('div', attrs = {'class' : '_1uv9Cb'})\n",
    "            off_price = price_container.find('div', attrs = {'class' : '_1vC4OE'}).text.replace(',','').split('₹')[1]\n",
    "            reg_price = price_container.find('div', attrs = {'class' : '_3auQ3N'})\n",
    "            if reg_price == None:\n",
    "                reg_price = '0'\n",
    "            else:\n",
    "                reg_price = reg_price.text.replace(',','').split('₹')[1]\n",
    "\n",
    "            off_percent = price_container.find('div', attrs = {'class' : 'VGWI6T'})\n",
    "            if off_percent == None:\n",
    "                off_percent = '0'\n",
    "            else:\n",
    "                off_percent = off_percent.text.split('o')[0]\n",
    "            f.write(product_name + ',' + off_price + ',' + reg_price + ',' + off_percent + ',' + img_url + '\\n')"
   ]
  },
  {
   "cell_type": "code",
   "execution_count": null,
   "metadata": {},
   "outputs": [],
   "source": []
  }
 ],
 "metadata": {
  "kernelspec": {
   "display_name": "Python 3",
   "language": "python",
   "name": "python3"
  },
  "language_info": {
   "codemirror_mode": {
    "name": "ipython",
    "version": 3
   },
   "file_extension": ".py",
   "mimetype": "text/x-python",
   "name": "python",
   "nbconvert_exporter": "python",
   "pygments_lexer": "ipython3",
   "version": "3.7.3"
  }
 },
 "nbformat": 4,
 "nbformat_minor": 2
}
